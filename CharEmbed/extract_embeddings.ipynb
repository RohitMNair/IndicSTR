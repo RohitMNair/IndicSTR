{
 "cells": [
  {
   "cell_type": "code",
   "execution_count": 1,
   "metadata": {},
   "outputs": [],
   "source": [
    "import torch\n",
    "from pathlib import Path\n",
    "from model.Img2Vec import Img2Vec\n",
    "from model.ResNet import ResNet\n",
    "from model.focalnet import FocalNetBackbone"
   ]
  },
  {
   "cell_type": "code",
   "execution_count": 2,
   "metadata": {},
   "outputs": [],
   "source": [
    "# The checkpoint \".ckpt\" path\n",
    "ckpt_path = \"/home/rohitn/D1/Hindi_embed_logs/Img2Vec_resnet_50_r1024/82953/checkpoints/epoch=6-val_loss=0.16-val_acc=0.89.ckpt\"\n",
    "# give appropriate name for embeddings\n",
    "name = \"resnet_50_r1024.pth\"\n",
    "# save location\n",
    "save_path = Path(\"/home/rohitn/IndianSTR/Img2Vec/GroupNet/embeddings/\") / name"
   ]
  },
  {
   "cell_type": "markdown",
   "metadata": {},
   "source": [
    "### Define Backbone\n",
    "refer the checkpoint hydra config to initialize the backbone\n"
   ]
  },
  {
   "cell_type": "code",
   "execution_count": 3,
   "metadata": {},
   "outputs": [],
   "source": [
    "backbone = ResNet(\n",
    "                    version= 50,\n",
    "                    img_size= 128,\n",
    "                    out_features= 1024,               \n",
    "                )"
   ]
  },
  {
   "cell_type": "markdown",
   "metadata": {},
   "source": [
    "### Intialize Img2Vec model"
   ]
  },
  {
   "cell_type": "code",
   "execution_count": 4,
   "metadata": {},
   "outputs": [],
   "source": [
    "model = Img2Vec.load_from_checkpoint(ckpt_path, backbone= backbone)"
   ]
  },
  {
   "cell_type": "markdown",
   "metadata": {},
   "source": [
    "### Get the Embeddings"
   ]
  },
  {
   "cell_type": "code",
   "execution_count": 5,
   "metadata": {},
   "outputs": [],
   "source": [
    "h_c_2_emb = model.half_character2_head.weight.data\n",
    "h_c_1_emb = model.half_character1_head.weight.data\n",
    "f_c_emb = model.character_head.weight.data\n",
    "d_emb = model.diacritic_head.weight.data\n",
    "# save the embeddings along with character classes,\n",
    "# in the embeddings folder of GroupNet\n",
    "torch.save({\n",
    "    \"h_c_2_emb\":h_c_2_emb,\n",
    "    \"h_c_1_emb\":h_c_1_emb,\n",
    "    \"f_c_emb\":f_c_emb,\n",
    "    \"d_emb\":d_emb,\n",
    "    \"h_c_classes\": model.half_character_classes,\n",
    "    \"f_c_classes\": model.character_classes,\n",
    "    \"d_classes\": model.diacritic_classes,\n",
    "    }, \n",
    "    save_path\n",
    ")"
   ]
  },
  {
   "cell_type": "markdown",
   "metadata": {},
   "source": [
    "### Sanity Check"
   ]
  },
  {
   "cell_type": "code",
   "execution_count": 6,
   "metadata": {},
   "outputs": [],
   "source": [
    "loaded_dict = torch.load(save_path)"
   ]
  },
  {
   "cell_type": "code",
   "execution_count": 7,
   "metadata": {},
   "outputs": [
    {
     "data": {
      "text/plain": [
       "dict_keys(['h_c_2_emb', 'h_c_1_emb', 'f_c_emb', 'd_emb', 'h_c_classes', 'f_c_classes', 'd_classes'])"
      ]
     },
     "execution_count": 7,
     "metadata": {},
     "output_type": "execute_result"
    }
   ],
   "source": [
    "loaded_dict.keys()"
   ]
  },
  {
   "cell_type": "code",
   "execution_count": 8,
   "metadata": {},
   "outputs": [
    {
     "data": {
      "text/plain": [
       "True"
      ]
     },
     "execution_count": 8,
     "metadata": {},
     "output_type": "execute_result"
    }
   ],
   "source": [
    "loaded_dict[\"h_c_classes\"] == [ 'क', 'ख', 'ग', 'घ', 'ङ',\n",
    "                            'च', 'छ', 'ज', 'झ', 'ञ',\n",
    "                            'ट', 'ठ', 'ड', 'ढ', 'ण',\n",
    "                            'त', 'थ', 'द', 'ध', 'न',\n",
    "                            'प', 'फ', 'ब', 'भ', 'म',\n",
    "                            'य', 'र', 'ल', 'ळ', 'व', 'श',\n",
    "                            'ष', 'स', 'ह']"
   ]
  },
  {
   "cell_type": "code",
   "execution_count": null,
   "metadata": {},
   "outputs": [],
   "source": []
  }
 ],
 "metadata": {
  "kernelspec": {
   "display_name": "IndicEnv",
   "language": "python",
   "name": "python3"
  },
  "language_info": {
   "codemirror_mode": {
    "name": "ipython",
    "version": 3
   },
   "file_extension": ".py",
   "mimetype": "text/x-python",
   "name": "python",
   "nbconvert_exporter": "python",
   "pygments_lexer": "ipython3",
   "version": "3.10.12"
  }
 },
 "nbformat": 4,
 "nbformat_minor": 2
}
